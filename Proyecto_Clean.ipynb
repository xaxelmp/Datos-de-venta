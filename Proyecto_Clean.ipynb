{
  "nbformat": 4,
  "nbformat_minor": 0,
  "metadata": {
    "colab": {
      "provenance": []
    },
    "kernelspec": {
      "name": "python3",
      "display_name": "Python 3"
    },
    "language_info": {
      "name": "python"
    }
  },
  "cells": [
    {
      "cell_type": "code",
      "execution_count": 1,
      "metadata": {
        "colab": {
          "base_uri": "https://localhost:8080/"
        },
        "id": "APAbEu1qgjII",
        "outputId": "aabb031e-89e9-4bcc-a422-a137f8b318d4"
      },
      "outputs": [
        {
          "output_type": "stream",
          "name": "stdout",
          "text": [
            "Mounted at /content/drive\n"
          ]
        }
      ],
      "source": [
        "#Contactar con drive\n",
        "from google.colab import drive\n",
        "drive.mount('/content/drive')"
      ]
    },
    {
      "cell_type": "code",
      "source": [
        "#importar las bibliotecas\n",
        "import pandas as pd\n",
        "import numpy as np\n",
        "import matplotlib.pyplot as plt\n",
        "import seaborn as sns"
      ],
      "metadata": {
        "id": "Lu-TN8mlg73k"
      },
      "execution_count": 2,
      "outputs": []
    },
    {
      "cell_type": "code",
      "source": [
        "#Cargar la base de datos\n",
        "df = pd.read_csv('/content/drive/MyDrive/sales for course/df_sucio.csv')\n",
        "df"
      ],
      "metadata": {
        "colab": {
          "base_uri": "https://localhost:8080/",
          "height": 652
        },
        "id": "buZD7weSg9Ou",
        "outputId": "92166465-5a69-485d-d704-92552d924cfd"
      },
      "execution_count": 125,
      "outputs": [
        {
          "output_type": "execute_result",
          "data": {
            "text/plain": [
              "         index       Date    Year  Month  Customer Age Customer Gender  \\\n",
              "0          0.0  2/19/2016  2016.0    NaN          29.0               F   \n",
              "1          1.0  2/20/2016     NaN    NaN          29.0               F   \n",
              "2          2.0  2/27/2016  2016.0    NaN          29.0               F   \n",
              "3          3.0  3/12/2016  2016.0    NaN          29.0               F   \n",
              "4          4.0  3/12/2016  2016.0    NaN          29.0               F   \n",
              "...        ...        ...     ...    ...           ...             ...   \n",
              "44606      NaN   2/2/2016  2016.0    NaN          18.0               M   \n",
              "44607  22510.0  10/6/2015  2015.0    NaN          52.0               F   \n",
              "44608  28005.0  4/17/2016  2016.0    NaN          21.0               M   \n",
              "44609   4653.0  1/23/2016  2016.0    NaN          31.0               F   \n",
              "44610   2684.0   9/9/2015  2015.0    NaN          58.0               F   \n",
              "\n",
              "              Country       State Product Category       Sub Category  \\\n",
              "0       United States     invalid      Accessories    Tires and Tubes   \n",
              "1       United States  Washington         Clothing             Gloves   \n",
              "2       United States  Washington      Accessories    Tires and Tubes   \n",
              "3       United States  Washington      Accessories    Tires and Tubes   \n",
              "4       United States  Washington      Accessories    Tires and Tubes   \n",
              "...               ...         ...              ...                ...   \n",
              "44606   United States  California      Accessories           Cleaners   \n",
              "44607  United Kingdom     England      Accessories    Tires and Tubes   \n",
              "44608   United States  California         Clothing             Gloves   \n",
              "44609   United States  California      Accessories  Bottles and Cages   \n",
              "44610   United States  California      Accessories            invalid   \n",
              "\n",
              "       Quantity Unit Cost Unit Price   Cost  Revenue  Column1  \n",
              "0           1.0      80.0      109.0   80.0    109.0      NaN  \n",
              "1           2.0      24.5       28.5   49.0     57.0      NaN  \n",
              "2           3.0      3.67        5.0   11.0     15.0      NaN  \n",
              "3           2.0      87.5      116.5  175.0    233.0      NaN  \n",
              "4           3.0      35.0  41.666667  105.0    125.0      NaN  \n",
              "...         ...       ...        ...    ...      ...      ...  \n",
              "44606       1.0     167.0      213.0  167.0    213.0      NaN  \n",
              "44607       3.0     14.67       17.0   44.0     51.0      NaN  \n",
              "44608       1.0     416.0      477.0  416.0      NaN      NaN  \n",
              "44609       2.0      47.5       60.0   95.0    120.0      NaN  \n",
              "44610       3.0      70.0       87.0  210.0    261.0    723.0  \n",
              "\n",
              "[44611 rows x 16 columns]"
            ],
            "text/html": [
              "\n",
              "  <div id=\"df-37c8b740-8076-4988-9ff1-fb6f5aea669b\" class=\"colab-df-container\">\n",
              "    <div>\n",
              "<style scoped>\n",
              "    .dataframe tbody tr th:only-of-type {\n",
              "        vertical-align: middle;\n",
              "    }\n",
              "\n",
              "    .dataframe tbody tr th {\n",
              "        vertical-align: top;\n",
              "    }\n",
              "\n",
              "    .dataframe thead th {\n",
              "        text-align: right;\n",
              "    }\n",
              "</style>\n",
              "<table border=\"1\" class=\"dataframe\">\n",
              "  <thead>\n",
              "    <tr style=\"text-align: right;\">\n",
              "      <th></th>\n",
              "      <th>index</th>\n",
              "      <th>Date</th>\n",
              "      <th>Year</th>\n",
              "      <th>Month</th>\n",
              "      <th>Customer Age</th>\n",
              "      <th>Customer Gender</th>\n",
              "      <th>Country</th>\n",
              "      <th>State</th>\n",
              "      <th>Product Category</th>\n",
              "      <th>Sub Category</th>\n",
              "      <th>Quantity</th>\n",
              "      <th>Unit Cost</th>\n",
              "      <th>Unit Price</th>\n",
              "      <th>Cost</th>\n",
              "      <th>Revenue</th>\n",
              "      <th>Column1</th>\n",
              "    </tr>\n",
              "  </thead>\n",
              "  <tbody>\n",
              "    <tr>\n",
              "      <th>0</th>\n",
              "      <td>0.0</td>\n",
              "      <td>2/19/2016</td>\n",
              "      <td>2016.0</td>\n",
              "      <td>NaN</td>\n",
              "      <td>29.0</td>\n",
              "      <td>F</td>\n",
              "      <td>United States</td>\n",
              "      <td>invalid</td>\n",
              "      <td>Accessories</td>\n",
              "      <td>Tires and Tubes</td>\n",
              "      <td>1.0</td>\n",
              "      <td>80.0</td>\n",
              "      <td>109.0</td>\n",
              "      <td>80.0</td>\n",
              "      <td>109.0</td>\n",
              "      <td>NaN</td>\n",
              "    </tr>\n",
              "    <tr>\n",
              "      <th>1</th>\n",
              "      <td>1.0</td>\n",
              "      <td>2/20/2016</td>\n",
              "      <td>NaN</td>\n",
              "      <td>NaN</td>\n",
              "      <td>29.0</td>\n",
              "      <td>F</td>\n",
              "      <td>United States</td>\n",
              "      <td>Washington</td>\n",
              "      <td>Clothing</td>\n",
              "      <td>Gloves</td>\n",
              "      <td>2.0</td>\n",
              "      <td>24.5</td>\n",
              "      <td>28.5</td>\n",
              "      <td>49.0</td>\n",
              "      <td>57.0</td>\n",
              "      <td>NaN</td>\n",
              "    </tr>\n",
              "    <tr>\n",
              "      <th>2</th>\n",
              "      <td>2.0</td>\n",
              "      <td>2/27/2016</td>\n",
              "      <td>2016.0</td>\n",
              "      <td>NaN</td>\n",
              "      <td>29.0</td>\n",
              "      <td>F</td>\n",
              "      <td>United States</td>\n",
              "      <td>Washington</td>\n",
              "      <td>Accessories</td>\n",
              "      <td>Tires and Tubes</td>\n",
              "      <td>3.0</td>\n",
              "      <td>3.67</td>\n",
              "      <td>5.0</td>\n",
              "      <td>11.0</td>\n",
              "      <td>15.0</td>\n",
              "      <td>NaN</td>\n",
              "    </tr>\n",
              "    <tr>\n",
              "      <th>3</th>\n",
              "      <td>3.0</td>\n",
              "      <td>3/12/2016</td>\n",
              "      <td>2016.0</td>\n",
              "      <td>NaN</td>\n",
              "      <td>29.0</td>\n",
              "      <td>F</td>\n",
              "      <td>United States</td>\n",
              "      <td>Washington</td>\n",
              "      <td>Accessories</td>\n",
              "      <td>Tires and Tubes</td>\n",
              "      <td>2.0</td>\n",
              "      <td>87.5</td>\n",
              "      <td>116.5</td>\n",
              "      <td>175.0</td>\n",
              "      <td>233.0</td>\n",
              "      <td>NaN</td>\n",
              "    </tr>\n",
              "    <tr>\n",
              "      <th>4</th>\n",
              "      <td>4.0</td>\n",
              "      <td>3/12/2016</td>\n",
              "      <td>2016.0</td>\n",
              "      <td>NaN</td>\n",
              "      <td>29.0</td>\n",
              "      <td>F</td>\n",
              "      <td>United States</td>\n",
              "      <td>Washington</td>\n",
              "      <td>Accessories</td>\n",
              "      <td>Tires and Tubes</td>\n",
              "      <td>3.0</td>\n",
              "      <td>35.0</td>\n",
              "      <td>41.666667</td>\n",
              "      <td>105.0</td>\n",
              "      <td>125.0</td>\n",
              "      <td>NaN</td>\n",
              "    </tr>\n",
              "    <tr>\n",
              "      <th>...</th>\n",
              "      <td>...</td>\n",
              "      <td>...</td>\n",
              "      <td>...</td>\n",
              "      <td>...</td>\n",
              "      <td>...</td>\n",
              "      <td>...</td>\n",
              "      <td>...</td>\n",
              "      <td>...</td>\n",
              "      <td>...</td>\n",
              "      <td>...</td>\n",
              "      <td>...</td>\n",
              "      <td>...</td>\n",
              "      <td>...</td>\n",
              "      <td>...</td>\n",
              "      <td>...</td>\n",
              "      <td>...</td>\n",
              "    </tr>\n",
              "    <tr>\n",
              "      <th>44606</th>\n",
              "      <td>NaN</td>\n",
              "      <td>2/2/2016</td>\n",
              "      <td>2016.0</td>\n",
              "      <td>NaN</td>\n",
              "      <td>18.0</td>\n",
              "      <td>M</td>\n",
              "      <td>United States</td>\n",
              "      <td>California</td>\n",
              "      <td>Accessories</td>\n",
              "      <td>Cleaners</td>\n",
              "      <td>1.0</td>\n",
              "      <td>167.0</td>\n",
              "      <td>213.0</td>\n",
              "      <td>167.0</td>\n",
              "      <td>213.0</td>\n",
              "      <td>NaN</td>\n",
              "    </tr>\n",
              "    <tr>\n",
              "      <th>44607</th>\n",
              "      <td>22510.0</td>\n",
              "      <td>10/6/2015</td>\n",
              "      <td>2015.0</td>\n",
              "      <td>NaN</td>\n",
              "      <td>52.0</td>\n",
              "      <td>F</td>\n",
              "      <td>United Kingdom</td>\n",
              "      <td>England</td>\n",
              "      <td>Accessories</td>\n",
              "      <td>Tires and Tubes</td>\n",
              "      <td>3.0</td>\n",
              "      <td>14.67</td>\n",
              "      <td>17.0</td>\n",
              "      <td>44.0</td>\n",
              "      <td>51.0</td>\n",
              "      <td>NaN</td>\n",
              "    </tr>\n",
              "    <tr>\n",
              "      <th>44608</th>\n",
              "      <td>28005.0</td>\n",
              "      <td>4/17/2016</td>\n",
              "      <td>2016.0</td>\n",
              "      <td>NaN</td>\n",
              "      <td>21.0</td>\n",
              "      <td>M</td>\n",
              "      <td>United States</td>\n",
              "      <td>California</td>\n",
              "      <td>Clothing</td>\n",
              "      <td>Gloves</td>\n",
              "      <td>1.0</td>\n",
              "      <td>416.0</td>\n",
              "      <td>477.0</td>\n",
              "      <td>416.0</td>\n",
              "      <td>NaN</td>\n",
              "      <td>NaN</td>\n",
              "    </tr>\n",
              "    <tr>\n",
              "      <th>44609</th>\n",
              "      <td>4653.0</td>\n",
              "      <td>1/23/2016</td>\n",
              "      <td>2016.0</td>\n",
              "      <td>NaN</td>\n",
              "      <td>31.0</td>\n",
              "      <td>F</td>\n",
              "      <td>United States</td>\n",
              "      <td>California</td>\n",
              "      <td>Accessories</td>\n",
              "      <td>Bottles and Cages</td>\n",
              "      <td>2.0</td>\n",
              "      <td>47.5</td>\n",
              "      <td>60.0</td>\n",
              "      <td>95.0</td>\n",
              "      <td>120.0</td>\n",
              "      <td>NaN</td>\n",
              "    </tr>\n",
              "    <tr>\n",
              "      <th>44610</th>\n",
              "      <td>2684.0</td>\n",
              "      <td>9/9/2015</td>\n",
              "      <td>2015.0</td>\n",
              "      <td>NaN</td>\n",
              "      <td>58.0</td>\n",
              "      <td>F</td>\n",
              "      <td>United States</td>\n",
              "      <td>California</td>\n",
              "      <td>Accessories</td>\n",
              "      <td>invalid</td>\n",
              "      <td>3.0</td>\n",
              "      <td>70.0</td>\n",
              "      <td>87.0</td>\n",
              "      <td>210.0</td>\n",
              "      <td>261.0</td>\n",
              "      <td>723.0</td>\n",
              "    </tr>\n",
              "  </tbody>\n",
              "</table>\n",
              "<p>44611 rows × 16 columns</p>\n",
              "</div>\n",
              "    <div class=\"colab-df-buttons\">\n",
              "\n",
              "  <div class=\"colab-df-container\">\n",
              "    <button class=\"colab-df-convert\" onclick=\"convertToInteractive('df-37c8b740-8076-4988-9ff1-fb6f5aea669b')\"\n",
              "            title=\"Convert this dataframe to an interactive table.\"\n",
              "            style=\"display:none;\">\n",
              "\n",
              "  <svg xmlns=\"http://www.w3.org/2000/svg\" height=\"24px\" viewBox=\"0 -960 960 960\">\n",
              "    <path d=\"M120-120v-720h720v720H120Zm60-500h600v-160H180v160Zm220 220h160v-160H400v160Zm0 220h160v-160H400v160ZM180-400h160v-160H180v160Zm440 0h160v-160H620v160ZM180-180h160v-160H180v160Zm440 0h160v-160H620v160Z\"/>\n",
              "  </svg>\n",
              "    </button>\n",
              "\n",
              "  <style>\n",
              "    .colab-df-container {\n",
              "      display:flex;\n",
              "      gap: 12px;\n",
              "    }\n",
              "\n",
              "    .colab-df-convert {\n",
              "      background-color: #E8F0FE;\n",
              "      border: none;\n",
              "      border-radius: 50%;\n",
              "      cursor: pointer;\n",
              "      display: none;\n",
              "      fill: #1967D2;\n",
              "      height: 32px;\n",
              "      padding: 0 0 0 0;\n",
              "      width: 32px;\n",
              "    }\n",
              "\n",
              "    .colab-df-convert:hover {\n",
              "      background-color: #E2EBFA;\n",
              "      box-shadow: 0px 1px 2px rgba(60, 64, 67, 0.3), 0px 1px 3px 1px rgba(60, 64, 67, 0.15);\n",
              "      fill: #174EA6;\n",
              "    }\n",
              "\n",
              "    .colab-df-buttons div {\n",
              "      margin-bottom: 4px;\n",
              "    }\n",
              "\n",
              "    [theme=dark] .colab-df-convert {\n",
              "      background-color: #3B4455;\n",
              "      fill: #D2E3FC;\n",
              "    }\n",
              "\n",
              "    [theme=dark] .colab-df-convert:hover {\n",
              "      background-color: #434B5C;\n",
              "      box-shadow: 0px 1px 3px 1px rgba(0, 0, 0, 0.15);\n",
              "      filter: drop-shadow(0px 1px 2px rgba(0, 0, 0, 0.3));\n",
              "      fill: #FFFFFF;\n",
              "    }\n",
              "  </style>\n",
              "\n",
              "    <script>\n",
              "      const buttonEl =\n",
              "        document.querySelector('#df-37c8b740-8076-4988-9ff1-fb6f5aea669b button.colab-df-convert');\n",
              "      buttonEl.style.display =\n",
              "        google.colab.kernel.accessAllowed ? 'block' : 'none';\n",
              "\n",
              "      async function convertToInteractive(key) {\n",
              "        const element = document.querySelector('#df-37c8b740-8076-4988-9ff1-fb6f5aea669b');\n",
              "        const dataTable =\n",
              "          await google.colab.kernel.invokeFunction('convertToInteractive',\n",
              "                                                    [key], {});\n",
              "        if (!dataTable) return;\n",
              "\n",
              "        const docLinkHtml = 'Like what you see? Visit the ' +\n",
              "          '<a target=\"_blank\" href=https://colab.research.google.com/notebooks/data_table.ipynb>data table notebook</a>'\n",
              "          + ' to learn more about interactive tables.';\n",
              "        element.innerHTML = '';\n",
              "        dataTable['output_type'] = 'display_data';\n",
              "        await google.colab.output.renderOutput(dataTable, element);\n",
              "        const docLink = document.createElement('div');\n",
              "        docLink.innerHTML = docLinkHtml;\n",
              "        element.appendChild(docLink);\n",
              "      }\n",
              "    </script>\n",
              "  </div>\n",
              "\n",
              "\n",
              "<div id=\"df-d5785f2e-4247-4ac7-823d-03b727716411\">\n",
              "  <button class=\"colab-df-quickchart\" onclick=\"quickchart('df-d5785f2e-4247-4ac7-823d-03b727716411')\"\n",
              "            title=\"Suggest charts\"\n",
              "            style=\"display:none;\">\n",
              "\n",
              "<svg xmlns=\"http://www.w3.org/2000/svg\" height=\"24px\"viewBox=\"0 0 24 24\"\n",
              "     width=\"24px\">\n",
              "    <g>\n",
              "        <path d=\"M19 3H5c-1.1 0-2 .9-2 2v14c0 1.1.9 2 2 2h14c1.1 0 2-.9 2-2V5c0-1.1-.9-2-2-2zM9 17H7v-7h2v7zm4 0h-2V7h2v10zm4 0h-2v-4h2v4z\"/>\n",
              "    </g>\n",
              "</svg>\n",
              "  </button>\n",
              "\n",
              "<style>\n",
              "  .colab-df-quickchart {\n",
              "      --bg-color: #E8F0FE;\n",
              "      --fill-color: #1967D2;\n",
              "      --hover-bg-color: #E2EBFA;\n",
              "      --hover-fill-color: #174EA6;\n",
              "      --disabled-fill-color: #AAA;\n",
              "      --disabled-bg-color: #DDD;\n",
              "  }\n",
              "\n",
              "  [theme=dark] .colab-df-quickchart {\n",
              "      --bg-color: #3B4455;\n",
              "      --fill-color: #D2E3FC;\n",
              "      --hover-bg-color: #434B5C;\n",
              "      --hover-fill-color: #FFFFFF;\n",
              "      --disabled-bg-color: #3B4455;\n",
              "      --disabled-fill-color: #666;\n",
              "  }\n",
              "\n",
              "  .colab-df-quickchart {\n",
              "    background-color: var(--bg-color);\n",
              "    border: none;\n",
              "    border-radius: 50%;\n",
              "    cursor: pointer;\n",
              "    display: none;\n",
              "    fill: var(--fill-color);\n",
              "    height: 32px;\n",
              "    padding: 0;\n",
              "    width: 32px;\n",
              "  }\n",
              "\n",
              "  .colab-df-quickchart:hover {\n",
              "    background-color: var(--hover-bg-color);\n",
              "    box-shadow: 0 1px 2px rgba(60, 64, 67, 0.3), 0 1px 3px 1px rgba(60, 64, 67, 0.15);\n",
              "    fill: var(--button-hover-fill-color);\n",
              "  }\n",
              "\n",
              "  .colab-df-quickchart-complete:disabled,\n",
              "  .colab-df-quickchart-complete:disabled:hover {\n",
              "    background-color: var(--disabled-bg-color);\n",
              "    fill: var(--disabled-fill-color);\n",
              "    box-shadow: none;\n",
              "  }\n",
              "\n",
              "  .colab-df-spinner {\n",
              "    border: 2px solid var(--fill-color);\n",
              "    border-color: transparent;\n",
              "    border-bottom-color: var(--fill-color);\n",
              "    animation:\n",
              "      spin 1s steps(1) infinite;\n",
              "  }\n",
              "\n",
              "  @keyframes spin {\n",
              "    0% {\n",
              "      border-color: transparent;\n",
              "      border-bottom-color: var(--fill-color);\n",
              "      border-left-color: var(--fill-color);\n",
              "    }\n",
              "    20% {\n",
              "      border-color: transparent;\n",
              "      border-left-color: var(--fill-color);\n",
              "      border-top-color: var(--fill-color);\n",
              "    }\n",
              "    30% {\n",
              "      border-color: transparent;\n",
              "      border-left-color: var(--fill-color);\n",
              "      border-top-color: var(--fill-color);\n",
              "      border-right-color: var(--fill-color);\n",
              "    }\n",
              "    40% {\n",
              "      border-color: transparent;\n",
              "      border-right-color: var(--fill-color);\n",
              "      border-top-color: var(--fill-color);\n",
              "    }\n",
              "    60% {\n",
              "      border-color: transparent;\n",
              "      border-right-color: var(--fill-color);\n",
              "    }\n",
              "    80% {\n",
              "      border-color: transparent;\n",
              "      border-right-color: var(--fill-color);\n",
              "      border-bottom-color: var(--fill-color);\n",
              "    }\n",
              "    90% {\n",
              "      border-color: transparent;\n",
              "      border-bottom-color: var(--fill-color);\n",
              "    }\n",
              "  }\n",
              "</style>\n",
              "\n",
              "  <script>\n",
              "    async function quickchart(key) {\n",
              "      const quickchartButtonEl =\n",
              "        document.querySelector('#' + key + ' button');\n",
              "      quickchartButtonEl.disabled = true;  // To prevent multiple clicks.\n",
              "      quickchartButtonEl.classList.add('colab-df-spinner');\n",
              "      try {\n",
              "        const charts = await google.colab.kernel.invokeFunction(\n",
              "            'suggestCharts', [key], {});\n",
              "      } catch (error) {\n",
              "        console.error('Error during call to suggestCharts:', error);\n",
              "      }\n",
              "      quickchartButtonEl.classList.remove('colab-df-spinner');\n",
              "      quickchartButtonEl.classList.add('colab-df-quickchart-complete');\n",
              "    }\n",
              "    (() => {\n",
              "      let quickchartButtonEl =\n",
              "        document.querySelector('#df-d5785f2e-4247-4ac7-823d-03b727716411 button');\n",
              "      quickchartButtonEl.style.display =\n",
              "        google.colab.kernel.accessAllowed ? 'block' : 'none';\n",
              "    })();\n",
              "  </script>\n",
              "</div>\n",
              "\n",
              "  <div id=\"id_fa6e3fe7-9f3a-4c7a-9530-ea0b8a66da05\">\n",
              "    <style>\n",
              "      .colab-df-generate {\n",
              "        background-color: #E8F0FE;\n",
              "        border: none;\n",
              "        border-radius: 50%;\n",
              "        cursor: pointer;\n",
              "        display: none;\n",
              "        fill: #1967D2;\n",
              "        height: 32px;\n",
              "        padding: 0 0 0 0;\n",
              "        width: 32px;\n",
              "      }\n",
              "\n",
              "      .colab-df-generate:hover {\n",
              "        background-color: #E2EBFA;\n",
              "        box-shadow: 0px 1px 2px rgba(60, 64, 67, 0.3), 0px 1px 3px 1px rgba(60, 64, 67, 0.15);\n",
              "        fill: #174EA6;\n",
              "      }\n",
              "\n",
              "      [theme=dark] .colab-df-generate {\n",
              "        background-color: #3B4455;\n",
              "        fill: #D2E3FC;\n",
              "      }\n",
              "\n",
              "      [theme=dark] .colab-df-generate:hover {\n",
              "        background-color: #434B5C;\n",
              "        box-shadow: 0px 1px 3px 1px rgba(0, 0, 0, 0.15);\n",
              "        filter: drop-shadow(0px 1px 2px rgba(0, 0, 0, 0.3));\n",
              "        fill: #FFFFFF;\n",
              "      }\n",
              "    </style>\n",
              "    <button class=\"colab-df-generate\" onclick=\"generateWithVariable('df')\"\n",
              "            title=\"Generate code using this dataframe.\"\n",
              "            style=\"display:none;\">\n",
              "\n",
              "  <svg xmlns=\"http://www.w3.org/2000/svg\" height=\"24px\"viewBox=\"0 0 24 24\"\n",
              "       width=\"24px\">\n",
              "    <path d=\"M7,19H8.4L18.45,9,17,7.55,7,17.6ZM5,21V16.75L18.45,3.32a2,2,0,0,1,2.83,0l1.4,1.43a1.91,1.91,0,0,1,.58,1.4,1.91,1.91,0,0,1-.58,1.4L9.25,21ZM18.45,9,17,7.55Zm-12,3A5.31,5.31,0,0,0,4.9,8.1,5.31,5.31,0,0,0,1,6.5,5.31,5.31,0,0,0,4.9,4.9,5.31,5.31,0,0,0,6.5,1,5.31,5.31,0,0,0,8.1,4.9,5.31,5.31,0,0,0,12,6.5,5.46,5.46,0,0,0,6.5,12Z\"/>\n",
              "  </svg>\n",
              "    </button>\n",
              "    <script>\n",
              "      (() => {\n",
              "      const buttonEl =\n",
              "        document.querySelector('#id_fa6e3fe7-9f3a-4c7a-9530-ea0b8a66da05 button.colab-df-generate');\n",
              "      buttonEl.style.display =\n",
              "        google.colab.kernel.accessAllowed ? 'block' : 'none';\n",
              "\n",
              "      buttonEl.onclick = () => {\n",
              "        google.colab.notebook.generateWithVariable('df');\n",
              "      }\n",
              "      })();\n",
              "    </script>\n",
              "  </div>\n",
              "\n",
              "    </div>\n",
              "  </div>\n"
            ],
            "application/vnd.google.colaboratory.intrinsic+json": {
              "type": "dataframe",
              "variable_name": "df",
              "summary": "{\n  \"name\": \"df\",\n  \"rows\": 44611,\n  \"fields\": [\n    {\n      \"column\": \"index\",\n      \"properties\": {\n        \"dtype\": \"number\",\n        \"std\": 10051.100358927748,\n        \"min\": 0.0,\n        \"max\": 34866.0,\n        \"num_unique_values\": 34083,\n        \"samples\": [\n          27081.0,\n          5991.0,\n          10813.0\n        ],\n        \"semantic_type\": \"\",\n        \"description\": \"\"\n      }\n    },\n    {\n      \"column\": \"Date\",\n      \"properties\": {\n        \"dtype\": \"category\",\n        \"num_unique_values\": 576,\n        \"samples\": [\n          \"9/16/2015\",\n          \"6/10/2016\",\n          \"12/9/2015\"\n        ],\n        \"semantic_type\": \"\",\n        \"description\": \"\"\n      }\n    },\n    {\n      \"column\": \"Year\",\n      \"properties\": {\n        \"dtype\": \"number\",\n        \"std\": 0.49530125183222046,\n        \"min\": 2015.0,\n        \"max\": 2016.0,\n        \"num_unique_values\": 2,\n        \"samples\": [\n          2015.0,\n          2016.0\n        ],\n        \"semantic_type\": \"\",\n        \"description\": \"\"\n      }\n    },\n    {\n      \"column\": \"Month\",\n      \"properties\": {\n        \"dtype\": \"number\",\n        \"std\": null,\n        \"min\": null,\n        \"max\": null,\n        \"num_unique_values\": 0,\n        \"samples\": [],\n        \"semantic_type\": \"\",\n        \"description\": \"\"\n      }\n    },\n    {\n      \"column\": \"Customer Age\",\n      \"properties\": {\n        \"dtype\": \"number\",\n        \"std\": 11.12228036900521,\n        \"min\": 17.0,\n        \"max\": 87.0,\n        \"num_unique_values\": 70,\n        \"samples\": [],\n        \"semantic_type\": \"\",\n        \"description\": \"\"\n      }\n    },\n    {\n      \"column\": \"Customer Gender\",\n      \"properties\": {\n        \"dtype\": \"category\",\n        \"num_unique_values\": 2,\n        \"samples\": [],\n        \"semantic_type\": \"\",\n        \"description\": \"\"\n      }\n    },\n    {\n      \"column\": \"Country\",\n      \"properties\": {\n        \"dtype\": \"category\",\n        \"num_unique_values\": 4,\n        \"samples\": [],\n        \"semantic_type\": \"\",\n        \"description\": \"\"\n      }\n    },\n    {\n      \"column\": \"State\",\n      \"properties\": {\n        \"dtype\": \"category\",\n        \"num_unique_values\": 46,\n        \"samples\": [],\n        \"semantic_type\": \"\",\n        \"description\": \"\"\n      }\n    },\n    {\n      \"column\": \"Product Category\",\n      \"properties\": {\n        \"dtype\": \"category\",\n        \"num_unique_values\": 4,\n        \"samples\": [],\n        \"semantic_type\": \"\",\n        \"description\": \"\"\n      }\n    },\n    {\n      \"column\": \"Sub Category\",\n      \"properties\": {\n        \"dtype\": \"category\",\n        \"num_unique_values\": 18,\n        \"samples\": [],\n        \"semantic_type\": \"\",\n        \"description\": \"\"\n      }\n    },\n    {\n      \"column\": \"Quantity\",\n      \"properties\": {\n        \"dtype\": \"number\",\n        \"std\": 0.8133146196300968,\n        \"min\": 1.0,\n        \"max\": 3.0,\n        \"num_unique_values\": 3,\n        \"samples\": [],\n        \"semantic_type\": \"\",\n        \"description\": \"\"\n      }\n    },\n    {\n      \"column\": \"Unit Cost\",\n      \"properties\": {\n        \"dtype\": \"category\",\n        \"num_unique_values\": 882,\n        \"samples\": [],\n        \"semantic_type\": \"\",\n        \"description\": \"\"\n      }\n    },\n    {\n      \"column\": \"Unit Price\",\n      \"properties\": {\n        \"dtype\": \"category\",\n        \"num_unique_values\": 5111,\n        \"samples\": [],\n        \"semantic_type\": \"\",\n        \"description\": \"\"\n      }\n    },\n    {\n      \"column\": \"Cost\",\n      \"properties\": {\n        \"dtype\": \"number\",\n        \"std\": 687.5661735527935,\n        \"min\": 2.0,\n        \"max\": 3600.0,\n        \"num_unique_values\": 416,\n        \"samples\": [],\n        \"semantic_type\": \"\",\n        \"description\": \"\"\n      }\n    },\n    {\n      \"column\": \"Revenue\",\n      \"properties\": {\n        \"dtype\": \"number\",\n        \"std\": 734.4806496752789,\n        \"min\": 2.0,\n        \"max\": 5082.0,\n        \"num_unique_values\": 3010,\n        \"samples\": [],\n        \"semantic_type\": \"\",\n        \"description\": \"\"\n      }\n    },\n    {\n      \"column\": \"Column1\",\n      \"properties\": {\n        \"dtype\": \"number\",\n        \"std\": 772.4470902226725,\n        \"min\": 2.0,\n        \"max\": 3681.0,\n        \"num_unique_values\": 1268,\n        \"samples\": [],\n        \"semantic_type\": \"\",\n        \"description\": \"\"\n      }\n    }\n  ]\n}"
            }
          },
          "metadata": {},
          "execution_count": 125
        }
      ]
    },
    {
      "cell_type": "code",
      "source": [
        "#Extensión de la base\n",
        "df.shape"
      ],
      "metadata": {
        "colab": {
          "base_uri": "https://localhost:8080/"
        },
        "id": "Mw83XaPRip1D",
        "outputId": "217c122a-de54-4aaa-ad70-cfab13fbefc4"
      },
      "execution_count": 126,
      "outputs": [
        {
          "output_type": "execute_result",
          "data": {
            "text/plain": [
              "(44611, 16)"
            ]
          },
          "metadata": {},
          "execution_count": 126
        }
      ]
    },
    {
      "cell_type": "code",
      "source": [
        "#Información de la base\n",
        "df.info()"
      ],
      "metadata": {
        "colab": {
          "base_uri": "https://localhost:8080/"
        },
        "id": "-JLS2ZYYH2xg",
        "outputId": "262f50cb-5ef4-4c4c-a612-fd8a5ca4bf56"
      },
      "execution_count": 127,
      "outputs": [
        {
          "output_type": "stream",
          "name": "stdout",
          "text": [
            "<class 'pandas.core.frame.DataFrame'>\n",
            "RangeIndex: 44611 entries, 0 to 44610\n",
            "Data columns (total 16 columns):\n",
            " #   Column            Non-Null Count  Dtype  \n",
            "---  ------            --------------  -----  \n",
            " 0   index             43273 non-null  float64\n",
            " 1   Date              43272 non-null  object \n",
            " 2   Year              43272 non-null  float64\n",
            " 3   Month             0 non-null      float64\n",
            " 4   Customer Age      42407 non-null  float64\n",
            " 5   Customer Gender   43272 non-null  object \n",
            " 6   Country           43272 non-null  object \n",
            " 7   State             43272 non-null  object \n",
            " 8   Product Category  43272 non-null  object \n",
            " 9   Sub Category      43272 non-null  object \n",
            " 10  Quantity          43272 non-null  float64\n",
            " 11  Unit Cost         43272 non-null  object \n",
            " 12  Unit Price        43272 non-null  object \n",
            " 13  Cost              43272 non-null  float64\n",
            " 14  Revenue           43273 non-null  float64\n",
            " 15  Column1           3191 non-null   float64\n",
            "dtypes: float64(8), object(8)\n",
            "memory usage: 5.4+ MB\n"
          ]
        }
      ]
    },
    {
      "cell_type": "code",
      "source": [
        "#Describir las estadísticas\n",
        "print(df.describe(include='all'))"
      ],
      "metadata": {
        "colab": {
          "base_uri": "https://localhost:8080/"
        },
        "id": "22d0oO0kXN3L",
        "outputId": "68750885-1deb-486b-9b45-5385b7a88251"
      },
      "execution_count": 128,
      "outputs": [
        {
          "output_type": "stream",
          "name": "stdout",
          "text": [
            "               index     Date          Year  Month  Customer Age  \\\n",
            "count   43273.000000    43272  43272.000000    0.0  42407.000000   \n",
            "unique           NaN      576           NaN    NaN           NaN   \n",
            "top              NaN  invalid           NaN    NaN           NaN   \n",
            "freq             NaN      857           NaN    NaN           NaN   \n",
            "mean    17435.637603      NaN   2015.568428    NaN     36.390077   \n",
            "std     10051.100359      NaN      0.495301    NaN     11.122280   \n",
            "min         0.000000      NaN   2015.000000    NaN     17.000000   \n",
            "25%      8732.000000      NaN   2015.000000    NaN     28.000000   \n",
            "50%     17401.000000      NaN   2016.000000    NaN     35.000000   \n",
            "75%     26144.000000      NaN   2016.000000    NaN     44.000000   \n",
            "max     34866.000000      NaN   2016.000000    NaN     87.000000   \n",
            "\n",
            "       Customer Gender        Country       State Product Category  \\\n",
            "count            43272          43272       43272            43272   \n",
            "unique               2              4          46                4   \n",
            "top                  M  United States  California      Accessories   \n",
            "freq             22169          22458       12665            27428   \n",
            "mean               NaN            NaN         NaN              NaN   \n",
            "std                NaN            NaN         NaN              NaN   \n",
            "min                NaN            NaN         NaN              NaN   \n",
            "25%                NaN            NaN         NaN              NaN   \n",
            "50%                NaN            NaN         NaN              NaN   \n",
            "75%                NaN            NaN         NaN              NaN   \n",
            "max                NaN            NaN         NaN              NaN   \n",
            "\n",
            "           Sub Category      Quantity Unit Cost Unit Price          Cost  \\\n",
            "count             43272  43272.000000     43272      43272  43272.000000   \n",
            "unique               18           NaN       882       5111           NaN   \n",
            "top     Tires and Tubes           NaN   invalid    invalid           NaN   \n",
            "freq              13461           NaN       868        858           NaN   \n",
            "mean                NaN      2.001271       NaN        NaN    573.863815   \n",
            "std                 NaN      0.813315       NaN        NaN    687.566174   \n",
            "min                 NaN      1.000000       NaN        NaN      2.000000   \n",
            "25%                 NaN      1.000000       NaN        NaN     85.000000   \n",
            "50%                 NaN      2.000000       NaN        NaN    261.000000   \n",
            "75%                 NaN      3.000000       NaN        NaN    769.000000   \n",
            "max                 NaN      3.000000       NaN        NaN   3600.000000   \n",
            "\n",
            "             Revenue      Column1  \n",
            "count   43273.000000  3191.000000  \n",
            "unique           NaN          NaN  \n",
            "top              NaN          NaN  \n",
            "freq             NaN          NaN  \n",
            "mean      638.790297   682.708145  \n",
            "std       734.480650   772.447090  \n",
            "min         2.000000     2.000000  \n",
            "25%       102.000000   103.500000  \n",
            "50%       318.000000   389.000000  \n",
            "75%       901.000000   956.500000  \n",
            "max      5082.000000  3681.000000  \n"
          ]
        }
      ]
    },
    {
      "cell_type": "code",
      "source": [
        "#Se establece el formato óptimo de dato\n",
        "\n",
        "from datetime import datetime\n",
        "\n",
        "expected_types = {\n",
        "    'index': float,\n",
        "    'Date': datetime,\n",
        "    'Year': float,\n",
        "    'Month': float,\n",
        "    'Customer Age': float,\n",
        "    'Customer Gender': str,\n",
        "    'Country': str,\n",
        "    'State': str,\n",
        "    'Product Category': str,\n",
        "    'Sub Category': str,\n",
        "    'Quantity': float,\n",
        "    'Unit Cost': float,\n",
        "    'Unit Price': float,\n",
        "    'Revenue': float,\n",
        "    'Column1': float\n",
        "}\n",
        "\n",
        "# Verifica que todos los valores en cada columna cumplan con el tipo esperado\n",
        "type_check_results = {\n",
        "    column: df[column].apply(lambda x: isinstance(x, dtype) or pd.isna(x)).all()\n",
        "    for column, dtype in expected_types.items()\n",
        "}\n",
        "\n",
        "# Muestra los resultados\n",
        "for column, is_correct_type in type_check_results.items():\n",
        "    print(f\"Columna '{column}': {'Correcta' if is_correct_type else 'Incorrecta'}\")\n"
      ],
      "metadata": {
        "colab": {
          "base_uri": "https://localhost:8080/"
        },
        "id": "CRr7Z02jgX7Q",
        "outputId": "15ff0cf0-c43d-4954-89e2-d3c49cd33551"
      },
      "execution_count": 129,
      "outputs": [
        {
          "output_type": "stream",
          "name": "stdout",
          "text": [
            "Columna 'index': Correcta\n",
            "Columna 'Date': Incorrecta\n",
            "Columna 'Year': Correcta\n",
            "Columna 'Month': Correcta\n",
            "Columna 'Customer Age': Correcta\n",
            "Columna 'Customer Gender': Correcta\n",
            "Columna 'Country': Correcta\n",
            "Columna 'State': Correcta\n",
            "Columna 'Product Category': Correcta\n",
            "Columna 'Sub Category': Correcta\n",
            "Columna 'Quantity': Correcta\n",
            "Columna 'Unit Cost': Incorrecta\n",
            "Columna 'Unit Price': Incorrecta\n",
            "Columna 'Revenue': Correcta\n",
            "Columna 'Column1': Correcta\n"
          ]
        }
      ]
    },
    {
      "cell_type": "code",
      "source": [
        "#Convertir formato a valor numérico\n",
        "df['Unit Cost'] = pd.to_numeric(df['Unit Cost'], errors='coerce')\n",
        "df['Unit Price'] = pd.to_numeric(df['Unit Price'], errors='coerce')"
      ],
      "metadata": {
        "id": "IjS9znp4va9K"
      },
      "execution_count": 130,
      "outputs": []
    },
    {
      "cell_type": "code",
      "source": [
        "#Convertir fechas\n",
        "df['Date'] = pd.to_datetime(df['Date'], errors='coerce')"
      ],
      "metadata": {
        "id": "9wm42pDyvyNT"
      },
      "execution_count": 131,
      "outputs": []
    },
    {
      "cell_type": "code",
      "source": [
        "#Corroboración del tipo de formato\n",
        "#Se establece el formato óptimo de dato\n",
        "\n",
        "from datetime import datetime\n",
        "\n",
        "expected_types = {\n",
        "    'index': float,\n",
        "    'Date': datetime,\n",
        "    'Year': float,\n",
        "    'Month': float,\n",
        "    'Customer Age': float,\n",
        "    'Customer Gender': str,\n",
        "    'Country': str,\n",
        "    'State': str,\n",
        "    'Product Category': str,\n",
        "    'Sub Category': str,\n",
        "    'Quantity': float,\n",
        "    'Unit Cost': float,\n",
        "    'Unit Price': float,\n",
        "    'Revenue': float,\n",
        "    'Column1': float\n",
        "}\n",
        "\n",
        "# Verifica que todos los valores en cada columna cumplan con el tipo esperado\n",
        "type_check_results = {\n",
        "    column: df[column].apply(lambda x: isinstance(x, dtype) or pd.isna(x)).all()\n",
        "    for column, dtype in expected_types.items()\n",
        "}\n",
        "\n",
        "# Muestra los resultados\n",
        "for column, is_correct_type in type_check_results.items():\n",
        "    print(f\"Columna '{column}': {'Correcta' if is_correct_type else 'Incorrecta'}\")"
      ],
      "metadata": {
        "colab": {
          "base_uri": "https://localhost:8080/"
        },
        "id": "9kJ-YDWYwWs0",
        "outputId": "be620a08-d911-465d-fd65-f12296f5148c"
      },
      "execution_count": 132,
      "outputs": [
        {
          "output_type": "stream",
          "name": "stdout",
          "text": [
            "Columna 'index': Correcta\n",
            "Columna 'Date': Correcta\n",
            "Columna 'Year': Correcta\n",
            "Columna 'Month': Correcta\n",
            "Columna 'Customer Age': Correcta\n",
            "Columna 'Customer Gender': Correcta\n",
            "Columna 'Country': Correcta\n",
            "Columna 'State': Correcta\n",
            "Columna 'Product Category': Correcta\n",
            "Columna 'Sub Category': Correcta\n",
            "Columna 'Quantity': Correcta\n",
            "Columna 'Unit Cost': Correcta\n",
            "Columna 'Unit Price': Correcta\n",
            "Columna 'Revenue': Correcta\n",
            "Columna 'Column1': Correcta\n"
          ]
        }
      ]
    },
    {
      "cell_type": "code",
      "source": [
        "# Filas duplicadas\n",
        "print(df.duplicated().sum())"
      ],
      "metadata": {
        "colab": {
          "base_uri": "https://localhost:8080/"
        },
        "id": "ZeLnFp_EgIOd",
        "outputId": "e2cd29e3-7843-40da-b337-48d8140fc1df"
      },
      "execution_count": 133,
      "outputs": [
        {
          "output_type": "stream",
          "name": "stdout",
          "text": [
            "3367\n"
          ]
        }
      ]
    },
    {
      "cell_type": "code",
      "source": [
        "#Eliminar los registros duplicados\n",
        "df.drop_duplicates(inplace = True)"
      ],
      "metadata": {
        "id": "SlbFg33QhEmS"
      },
      "execution_count": 134,
      "outputs": []
    },
    {
      "cell_type": "code",
      "source": [
        "#Filas duplicadas corroboración\n",
        "print(df.duplicated().sum())"
      ],
      "metadata": {
        "colab": {
          "base_uri": "https://localhost:8080/"
        },
        "id": "N177Rb_9rTuX",
        "outputId": "dc36abdb-5088-40ca-f87c-1c4eae375f6b"
      },
      "execution_count": 135,
      "outputs": [
        {
          "output_type": "stream",
          "name": "stdout",
          "text": [
            "0\n"
          ]
        }
      ]
    },
    {
      "cell_type": "code",
      "source": [
        "# Columnas con total de valores nulos\n",
        "print(df.isnull().sum())"
      ],
      "metadata": {
        "colab": {
          "base_uri": "https://localhost:8080/"
        },
        "id": "6JUa8oWEf2g-",
        "outputId": "bc054826-f667-4d01-e114-89e04c66a7db"
      },
      "execution_count": 136,
      "outputs": [
        {
          "output_type": "stream",
          "name": "stdout",
          "text": [
            "index                1336\n",
            "Date                 2185\n",
            "Year                 1336\n",
            "Month               41244\n",
            "Customer Age         2197\n",
            "Customer Gender      1338\n",
            "Country              1332\n",
            "State                1335\n",
            "Product Category     1337\n",
            "Sub Category         1334\n",
            "Quantity             1338\n",
            "Unit Cost            2193\n",
            "Unit Price           2189\n",
            "Cost                 1335\n",
            "Revenue              1336\n",
            "Column1             38292\n",
            "dtype: int64\n"
          ]
        }
      ]
    },
    {
      "cell_type": "code",
      "source": [
        "#Comprobar la extensión\n",
        "df.shape"
      ],
      "metadata": {
        "colab": {
          "base_uri": "https://localhost:8080/"
        },
        "id": "JwyOYoUyDTWe",
        "outputId": "120e9a05-e0a4-479c-91cb-fd6ccafeb656"
      },
      "execution_count": 137,
      "outputs": [
        {
          "output_type": "execute_result",
          "data": {
            "text/plain": [
              "(41244, 16)"
            ]
          },
          "metadata": {},
          "execution_count": 137
        }
      ]
    },
    {
      "cell_type": "code",
      "source": [
        "# Eliminar las columnas sin datos\n",
        "df = df.drop(columns=['Month','Column1'])"
      ],
      "metadata": {
        "id": "DCOkv_ipyHzO"
      },
      "execution_count": 138,
      "outputs": []
    },
    {
      "cell_type": "code",
      "source": [
        "#Comprobar la nueva extensión\n",
        "df.shape"
      ],
      "metadata": {
        "colab": {
          "base_uri": "https://localhost:8080/"
        },
        "id": "6uUbH9oAy4V9",
        "outputId": "9d9d5cc2-75ef-4efe-f9eb-9f7337078c27"
      },
      "execution_count": 139,
      "outputs": [
        {
          "output_type": "execute_result",
          "data": {
            "text/plain": [
              "(41244, 14)"
            ]
          },
          "metadata": {},
          "execution_count": 139
        }
      ]
    },
    {
      "cell_type": "code",
      "source": [
        "# Columnas con total de valores nulos\n",
        "print(df.isnull().sum())"
      ],
      "metadata": {
        "colab": {
          "base_uri": "https://localhost:8080/"
        },
        "id": "BmBynXAnzR9U",
        "outputId": "bfe5a96d-6e7c-4841-8054-e84761155ed3"
      },
      "execution_count": 140,
      "outputs": [
        {
          "output_type": "stream",
          "name": "stdout",
          "text": [
            "index               1336\n",
            "Date                2185\n",
            "Year                1336\n",
            "Customer Age        2197\n",
            "Customer Gender     1338\n",
            "Country             1332\n",
            "State               1335\n",
            "Product Category    1337\n",
            "Sub Category        1334\n",
            "Quantity            1338\n",
            "Unit Cost           2193\n",
            "Unit Price          2189\n",
            "Cost                1335\n",
            "Revenue             1336\n",
            "dtype: int64\n"
          ]
        }
      ]
    },
    {
      "cell_type": "code",
      "source": [
        "# Imputar con un valor fijo\n",
        "df['Date'].fillna('Unknown', inplace=True)\n",
        "df['Year'].fillna('Unknown', inplace=True)"
      ],
      "metadata": {
        "colab": {
          "base_uri": "https://localhost:8080/"
        },
        "id": "0xOxP7-az-Eb",
        "outputId": "54f37390-bdda-4cb6-dc9c-528dd30536cd"
      },
      "execution_count": 141,
      "outputs": [
        {
          "output_type": "stream",
          "name": "stderr",
          "text": [
            "<ipython-input-141-579bc6223209>:2: FutureWarning: A value is trying to be set on a copy of a DataFrame or Series through chained assignment using an inplace method.\n",
            "The behavior will change in pandas 3.0. This inplace method will never work because the intermediate object on which we are setting values always behaves as a copy.\n",
            "\n",
            "For example, when doing 'df[col].method(value, inplace=True)', try using 'df.method({col: value}, inplace=True)' or df[col] = df[col].method(value) instead, to perform the operation inplace on the original object.\n",
            "\n",
            "\n",
            "  df['Date'].fillna('Unknown', inplace=True)\n",
            "<ipython-input-141-579bc6223209>:2: FutureWarning: Setting an item of incompatible dtype is deprecated and will raise an error in a future version of pandas. Value 'Unknown' has dtype incompatible with datetime64[ns], please explicitly cast to a compatible dtype first.\n",
            "  df['Date'].fillna('Unknown', inplace=True)\n",
            "<ipython-input-141-579bc6223209>:3: FutureWarning: A value is trying to be set on a copy of a DataFrame or Series through chained assignment using an inplace method.\n",
            "The behavior will change in pandas 3.0. This inplace method will never work because the intermediate object on which we are setting values always behaves as a copy.\n",
            "\n",
            "For example, when doing 'df[col].method(value, inplace=True)', try using 'df.method({col: value}, inplace=True)' or df[col] = df[col].method(value) instead, to perform the operation inplace on the original object.\n",
            "\n",
            "\n",
            "  df['Year'].fillna('Unknown', inplace=True)\n",
            "<ipython-input-141-579bc6223209>:3: FutureWarning: Setting an item of incompatible dtype is deprecated and will raise an error in a future version of pandas. Value 'Unknown' has dtype incompatible with float64, please explicitly cast to a compatible dtype first.\n",
            "  df['Year'].fillna('Unknown', inplace=True)\n"
          ]
        }
      ]
    },
    {
      "cell_type": "code",
      "source": [
        "#Imputar Customer Age con mediana\n",
        "df['Customer Age'].fillna(df['Customer Age'].median(), inplace=True)"
      ],
      "metadata": {
        "id": "v6MCRSd_4wIM",
        "outputId": "122efe68-6800-48c0-d6dd-e530a107fed5",
        "colab": {
          "base_uri": "https://localhost:8080/"
        }
      },
      "execution_count": 142,
      "outputs": [
        {
          "output_type": "stream",
          "name": "stderr",
          "text": [
            "<ipython-input-142-3fd371b5397d>:2: FutureWarning: A value is trying to be set on a copy of a DataFrame or Series through chained assignment using an inplace method.\n",
            "The behavior will change in pandas 3.0. This inplace method will never work because the intermediate object on which we are setting values always behaves as a copy.\n",
            "\n",
            "For example, when doing 'df[col].method(value, inplace=True)', try using 'df.method({col: value}, inplace=True)' or df[col] = df[col].method(value) instead, to perform the operation inplace on the original object.\n",
            "\n",
            "\n",
            "  df['Customer Age'].fillna(df['Customer Age'].median(), inplace=True)\n"
          ]
        }
      ]
    },
    {
      "cell_type": "code",
      "source": [
        "#Imputar Customer Gender mediante la moda\n",
        "df['Customer Gender'].fillna(df['Customer Gender'].mode()[0], inplace=True)"
      ],
      "metadata": {
        "id": "xCcWXTSC5jQY",
        "outputId": "cb8968dc-059c-4f38-e00b-8c5b76ce59a7",
        "colab": {
          "base_uri": "https://localhost:8080/"
        }
      },
      "execution_count": 143,
      "outputs": [
        {
          "output_type": "stream",
          "name": "stderr",
          "text": [
            "<ipython-input-143-c82adb5620e2>:2: FutureWarning: A value is trying to be set on a copy of a DataFrame or Series through chained assignment using an inplace method.\n",
            "The behavior will change in pandas 3.0. This inplace method will never work because the intermediate object on which we are setting values always behaves as a copy.\n",
            "\n",
            "For example, when doing 'df[col].method(value, inplace=True)', try using 'df.method({col: value}, inplace=True)' or df[col] = df[col].method(value) instead, to perform the operation inplace on the original object.\n",
            "\n",
            "\n",
            "  df['Customer Gender'].fillna(df['Customer Gender'].mode()[0], inplace=True)\n"
          ]
        }
      ]
    },
    {
      "cell_type": "code",
      "source": [
        "#Imputar Country y State mediante su relación\n",
        "df['Country'].fillna(df['Country'].mode()[0], inplace=True)\n",
        "df['State'].fillna(df['State'].mode()[0], inplace=True)"
      ],
      "metadata": {
        "id": "jNMqNvVX6dxr",
        "outputId": "b528b353-53ad-4d71-e0a1-276d5aae09ee",
        "colab": {
          "base_uri": "https://localhost:8080/"
        }
      },
      "execution_count": 144,
      "outputs": [
        {
          "output_type": "stream",
          "name": "stderr",
          "text": [
            "<ipython-input-144-063ac43fb20a>:2: FutureWarning: A value is trying to be set on a copy of a DataFrame or Series through chained assignment using an inplace method.\n",
            "The behavior will change in pandas 3.0. This inplace method will never work because the intermediate object on which we are setting values always behaves as a copy.\n",
            "\n",
            "For example, when doing 'df[col].method(value, inplace=True)', try using 'df.method({col: value}, inplace=True)' or df[col] = df[col].method(value) instead, to perform the operation inplace on the original object.\n",
            "\n",
            "\n",
            "  df['Country'].fillna(df['Country'].mode()[0], inplace=True)\n",
            "<ipython-input-144-063ac43fb20a>:3: FutureWarning: A value is trying to be set on a copy of a DataFrame or Series through chained assignment using an inplace method.\n",
            "The behavior will change in pandas 3.0. This inplace method will never work because the intermediate object on which we are setting values always behaves as a copy.\n",
            "\n",
            "For example, when doing 'df[col].method(value, inplace=True)', try using 'df.method({col: value}, inplace=True)' or df[col] = df[col].method(value) instead, to perform the operation inplace on the original object.\n",
            "\n",
            "\n",
            "  df['State'].fillna(df['State'].mode()[0], inplace=True)\n"
          ]
        }
      ]
    },
    {
      "cell_type": "code",
      "source": [
        "#Imputar Product Category y Subcategory\n",
        "df['Product Category'].fillna(df['Product Category'].mode()[0], inplace=True)\n",
        "df['Sub Category'].fillna(df['Sub Category'].mode()[0], inplace=True)"
      ],
      "metadata": {
        "id": "CbHyBgKf686u",
        "outputId": "c1ddc28f-4102-4a69-c894-d13cbabd2695",
        "colab": {
          "base_uri": "https://localhost:8080/"
        }
      },
      "execution_count": 145,
      "outputs": [
        {
          "output_type": "stream",
          "name": "stderr",
          "text": [
            "<ipython-input-145-1973a7727db7>:2: FutureWarning: A value is trying to be set on a copy of a DataFrame or Series through chained assignment using an inplace method.\n",
            "The behavior will change in pandas 3.0. This inplace method will never work because the intermediate object on which we are setting values always behaves as a copy.\n",
            "\n",
            "For example, when doing 'df[col].method(value, inplace=True)', try using 'df.method({col: value}, inplace=True)' or df[col] = df[col].method(value) instead, to perform the operation inplace on the original object.\n",
            "\n",
            "\n",
            "  df['Product Category'].fillna(df['Product Category'].mode()[0], inplace=True)\n",
            "<ipython-input-145-1973a7727db7>:3: FutureWarning: A value is trying to be set on a copy of a DataFrame or Series through chained assignment using an inplace method.\n",
            "The behavior will change in pandas 3.0. This inplace method will never work because the intermediate object on which we are setting values always behaves as a copy.\n",
            "\n",
            "For example, when doing 'df[col].method(value, inplace=True)', try using 'df.method({col: value}, inplace=True)' or df[col] = df[col].method(value) instead, to perform the operation inplace on the original object.\n",
            "\n",
            "\n",
            "  df['Sub Category'].fillna(df['Sub Category'].mode()[0], inplace=True)\n"
          ]
        }
      ]
    },
    {
      "cell_type": "code",
      "source": [
        "#Imputar Quantity\n",
        "df['Quantity'].fillna(df['Quantity'].median(), inplace=True)"
      ],
      "metadata": {
        "id": "_0Nb2e157jEz",
        "outputId": "c18a6baa-45ef-43a1-c61a-31888b9f7aa7",
        "colab": {
          "base_uri": "https://localhost:8080/"
        }
      },
      "execution_count": 146,
      "outputs": [
        {
          "output_type": "stream",
          "name": "stderr",
          "text": [
            "<ipython-input-146-2184fdd8e527>:2: FutureWarning: A value is trying to be set on a copy of a DataFrame or Series through chained assignment using an inplace method.\n",
            "The behavior will change in pandas 3.0. This inplace method will never work because the intermediate object on which we are setting values always behaves as a copy.\n",
            "\n",
            "For example, when doing 'df[col].method(value, inplace=True)', try using 'df.method({col: value}, inplace=True)' or df[col] = df[col].method(value) instead, to perform the operation inplace on the original object.\n",
            "\n",
            "\n",
            "  df['Quantity'].fillna(df['Quantity'].median(), inplace=True)\n"
          ]
        }
      ]
    },
    {
      "cell_type": "code",
      "source": [
        "df['Unit Cost'].fillna(df['Unit Cost'].median(), inplace=True)\n",
        "df['Unit Price'].fillna(df['Unit Price'].median(), inplace=True)\n",
        "df['Cost'].fillna(df['Cost'].median(), inplace=True)\n",
        "df['Revenue'].fillna(df['Revenue'].median(), inplace=True)\n"
      ],
      "metadata": {
        "id": "RvAn6uX58mP1",
        "outputId": "095d69ee-ec91-45a1-d1cc-13d65155bffa",
        "colab": {
          "base_uri": "https://localhost:8080/"
        }
      },
      "execution_count": 147,
      "outputs": [
        {
          "output_type": "stream",
          "name": "stderr",
          "text": [
            "<ipython-input-147-079cbeb561a3>:1: FutureWarning: A value is trying to be set on a copy of a DataFrame or Series through chained assignment using an inplace method.\n",
            "The behavior will change in pandas 3.0. This inplace method will never work because the intermediate object on which we are setting values always behaves as a copy.\n",
            "\n",
            "For example, when doing 'df[col].method(value, inplace=True)', try using 'df.method({col: value}, inplace=True)' or df[col] = df[col].method(value) instead, to perform the operation inplace on the original object.\n",
            "\n",
            "\n",
            "  df['Unit Cost'].fillna(df['Unit Cost'].median(), inplace=True)\n",
            "<ipython-input-147-079cbeb561a3>:2: FutureWarning: A value is trying to be set on a copy of a DataFrame or Series through chained assignment using an inplace method.\n",
            "The behavior will change in pandas 3.0. This inplace method will never work because the intermediate object on which we are setting values always behaves as a copy.\n",
            "\n",
            "For example, when doing 'df[col].method(value, inplace=True)', try using 'df.method({col: value}, inplace=True)' or df[col] = df[col].method(value) instead, to perform the operation inplace on the original object.\n",
            "\n",
            "\n",
            "  df['Unit Price'].fillna(df['Unit Price'].median(), inplace=True)\n",
            "<ipython-input-147-079cbeb561a3>:3: FutureWarning: A value is trying to be set on a copy of a DataFrame or Series through chained assignment using an inplace method.\n",
            "The behavior will change in pandas 3.0. This inplace method will never work because the intermediate object on which we are setting values always behaves as a copy.\n",
            "\n",
            "For example, when doing 'df[col].method(value, inplace=True)', try using 'df.method({col: value}, inplace=True)' or df[col] = df[col].method(value) instead, to perform the operation inplace on the original object.\n",
            "\n",
            "\n",
            "  df['Cost'].fillna(df['Cost'].median(), inplace=True)\n",
            "<ipython-input-147-079cbeb561a3>:4: FutureWarning: A value is trying to be set on a copy of a DataFrame or Series through chained assignment using an inplace method.\n",
            "The behavior will change in pandas 3.0. This inplace method will never work because the intermediate object on which we are setting values always behaves as a copy.\n",
            "\n",
            "For example, when doing 'df[col].method(value, inplace=True)', try using 'df.method({col: value}, inplace=True)' or df[col] = df[col].method(value) instead, to perform the operation inplace on the original object.\n",
            "\n",
            "\n",
            "  df['Revenue'].fillna(df['Revenue'].median(), inplace=True)\n"
          ]
        }
      ]
    },
    {
      "cell_type": "code",
      "source": [
        "#Índice\n",
        "df = df.dropna(axis=1)"
      ],
      "metadata": {
        "id": "XO7gELY59ePk"
      },
      "execution_count": 151,
      "outputs": []
    },
    {
      "cell_type": "code",
      "source": [
        "# Columnas con total de valores nulos\n",
        "print(df.isnull().sum())"
      ],
      "metadata": {
        "colab": {
          "base_uri": "https://localhost:8080/"
        },
        "id": "uB3z51M40EfV",
        "outputId": "4a7cec62-27c5-4687-953c-f6e2f24da1a5"
      },
      "execution_count": 152,
      "outputs": [
        {
          "output_type": "stream",
          "name": "stdout",
          "text": [
            "Date                0\n",
            "Year                0\n",
            "Customer Age        0\n",
            "Customer Gender     0\n",
            "Country             0\n",
            "State               0\n",
            "Product Category    0\n",
            "Sub Category        0\n",
            "Quantity            0\n",
            "Unit Cost           0\n",
            "Unit Price          0\n",
            "Cost                0\n",
            "Revenue             0\n",
            "dtype: int64\n"
          ]
        }
      ]
    },
    {
      "cell_type": "code",
      "source": [
        "df.shape"
      ],
      "metadata": {
        "id": "OitdIJLc_LL8",
        "outputId": "0259acea-8856-4283-9bb5-33f36d5feb9d",
        "colab": {
          "base_uri": "https://localhost:8080/"
        }
      },
      "execution_count": 153,
      "outputs": [
        {
          "output_type": "execute_result",
          "data": {
            "text/plain": [
              "(41244, 13)"
            ]
          },
          "metadata": {},
          "execution_count": 153
        }
      ]
    },
    {
      "cell_type": "code",
      "source": [
        "#Describir las estadísticas de forma final\n",
        "print(df.describe(include='all'))"
      ],
      "metadata": {
        "id": "QibUFMd4DUCY",
        "outputId": "0f422b09-87ac-4e75-e740-763e89aa89c5",
        "colab": {
          "base_uri": "https://localhost:8080/"
        }
      },
      "execution_count": 157,
      "outputs": [
        {
          "output_type": "stream",
          "name": "stdout",
          "text": [
            "           Date     Year  Customer Age Customer Gender        Country  \\\n",
            "count     41244  41244.0  41244.000000           41244          41244   \n",
            "unique      576      3.0           NaN               2              4   \n",
            "top     Unknown   2016.0           NaN               M  United States   \n",
            "freq       2185  22735.0           NaN           21790          22025   \n",
            "mean        NaN      NaN     36.319368             NaN            NaN   \n",
            "std         NaN      NaN     10.825552             NaN            NaN   \n",
            "min         NaN      NaN     17.000000             NaN            NaN   \n",
            "25%         NaN      NaN     28.000000             NaN            NaN   \n",
            "50%         NaN      NaN     35.000000             NaN            NaN   \n",
            "75%         NaN      NaN     43.000000             NaN            NaN   \n",
            "max         NaN      NaN     87.000000             NaN            NaN   \n",
            "\n",
            "             State Product Category     Sub Category      Quantity  \\\n",
            "count        41244            41244            41244  41244.000000   \n",
            "unique          46                4               18           NaN   \n",
            "top     California      Accessories  Tires and Tubes           NaN   \n",
            "freq         12965            26635            13769           NaN   \n",
            "mean           NaN              NaN              NaN      2.001649   \n",
            "std            NaN              NaN              NaN      0.799945   \n",
            "min            NaN              NaN              NaN      1.000000   \n",
            "25%            NaN              NaN              NaN      1.000000   \n",
            "50%            NaN              NaN              NaN      2.000000   \n",
            "75%            NaN              NaN              NaN      3.000000   \n",
            "max            NaN              NaN              NaN      3.000000   \n",
            "\n",
            "           Unit Cost    Unit Price          Cost       Revenue  \n",
            "count   41244.000000  41244.000000  41244.000000  41244.000000  \n",
            "unique           NaN           NaN           NaN           NaN  \n",
            "top              NaN           NaN           NaN           NaN  \n",
            "freq             NaN           NaN           NaN           NaN  \n",
            "mean      338.063005    376.903311    564.107167    629.049984  \n",
            "std       475.917397    511.912443    679.589018    726.201449  \n",
            "min         0.670000      0.666667      2.000000      2.000000  \n",
            "25%        48.000000     57.500000     90.000000    106.000000  \n",
            "50%       150.000000    178.000000    261.000000    319.000000  \n",
            "75%       418.000000    487.000000    769.000000    873.000000  \n",
            "max      3240.000000   5082.000000   3600.000000   5082.000000  \n"
          ]
        }
      ]
    },
    {
      "cell_type": "code",
      "source": [
        "# Guardar el DataFrame en un archivo CSV\n",
        "df.to_csv('C:\\\\Users\\\\Axel\\\\Downloads\\\\nueva_base.csv', index=False)"
      ],
      "metadata": {
        "id": "j_yJP2sHERAh"
      },
      "execution_count": 159,
      "outputs": []
    },
    {
      "cell_type": "markdown",
      "source": [
        "FIN REVISADO"
      ],
      "metadata": {
        "id": "ii_owQtotKqh"
      }
    }
  ]
}